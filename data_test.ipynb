{
 "cells": [
  {
   "cell_type": "code",
   "execution_count": 8,
   "id": "46e50ce2",
   "metadata": {},
   "outputs": [],
   "source": [
    "import numpy as np\n",
    "import pickle\n",
    "\n",
    "file = open('data/TEST_DIVERSE_2.pkl','rb')\n",
    "data = pickle.load(file)\n",
    "file.close()\n",
    "last_values = data[:, :, -1]  # Shape: (39732, 7)\n",
    "\n",
    "# Step 2: Get sorting indices for descending order\n",
    "sorted_indices = np.argsort(-last_values, axis=1)  # Shape: (39732, 7)\n",
    "\n",
    "# Step 3: Reorder the curves within each family\n",
    "# Use advanced indexing to reorder curves according to sorted_indices\n",
    "reordered_curves = np.take_along_axis(data, sorted_indices[:, :, np.newaxis], axis=1)\n",
    "\n",
    "\n",
    "dumpfile = open('data/MARIO_ORDERED_TEST.pkl','wb')\n",
    "pickle.dump(reordered_curves,dumpfile)\n",
    "dumpfile.close()"
   ]
  },
  {
   "cell_type": "code",
   "execution_count": 4,
   "id": "797cb897",
   "metadata": {},
   "outputs": [],
   "source": [
    "import numpy as np\n",
    "import pickle\n",
    "\n",
    "# Load data\n",
    "with open('data/TEST_DIVERSE_2.pkl', 'rb') as file:\n",
    "    data = pickle.load(file)  # shape: (x, 7, 129)\n",
    "\n",
    "# Compute max value for each curve (axis=2 is the time dimension)\n",
    "max_values = np.max(data, axis=2)  # shape: (x, 7)\n",
    "\n",
    "# Get sorting indices in descending order of max values\n",
    "sorted_indices = np.argsort(-max_values, axis=1)  # shape: (x, 7)\n",
    "\n",
    "# Reorder curves according to those indices\n",
    "# Expand sorted_indices to match data's shape for advanced indexing\n",
    "reordered = np.take_along_axis(data, sorted_indices[:, :, np.newaxis], axis=1)\n",
    "\n",
    "# Save the reordered data\n",
    "with open('data/MARIO_ORDERED_MAX_TEST.pkl', 'wb') as dumpfile:\n",
    "    pickle.dump(reordered, dumpfile)"
   ]
  }
 ],
 "metadata": {
  "kernelspec": {
   "display_name": "TimeSeries",
   "language": "python",
   "name": "python3"
  },
  "language_info": {
   "codemirror_mode": {
    "name": "ipython",
    "version": 3
   },
   "file_extension": ".py",
   "mimetype": "text/x-python",
   "name": "python",
   "nbconvert_exporter": "python",
   "pygments_lexer": "ipython3",
   "version": "3.12.3"
  }
 },
 "nbformat": 4,
 "nbformat_minor": 5
}
