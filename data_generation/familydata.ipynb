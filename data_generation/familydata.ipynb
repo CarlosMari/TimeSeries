{
 "cells": [
  {
   "cell_type": "code",
   "execution_count": null,
   "metadata": {},
   "outputs": [],
   "source": [
    "import numpy as np\n",
    "import matplotlib.pyplot as plt\n",
    "from scipy.integrate import odeint\n",
    "from tqdm.notebook import trange\n",
    "import pickle"
   ]
  },
  {
   "cell_type": "code",
   "execution_count": null,
   "metadata": {},
   "outputs": [],
   "source": [
    "mean = 0.13\n",
    "std = 0.02"
   ]
  },
  {
   "cell_type": "code",
   "execution_count": null,
   "metadata": {},
   "outputs": [],
   "source": [
    "def multi_species_model(p,t,  n , Gamma, sigma, mu):\n",
    "    \"\"\"\n",
    "    Simulate a multispecies model of community growth. \n",
    "    \n",
    "    Parameters\n",
    "    ----------\n",
    "    n: int\n",
    "        The number of species to simulate\n",
    "    \n",
    "    Gamma: n x n np.array\n",
    "        A matrix of the interaction terms where the ij-th term models the interaction\n",
    "        strength of the ij-th species\n",
    "    \n",
    "    Sigma: n np.array\n",
    "        A vector of the intrinsic external growth effect, generally set to a constant\n",
    "    \n",
    "    mu: n np.array\n",
    "        A vector of the intrinsic growth rates of the bacteria\n",
    "        \n",
    "    p: n np.array\n",
    "        A vector of the initial species distribution.\n",
    "    \"\"\"\n",
    "    \n",
    "    # We must construct a list of n elements, each corresponding to the growth derivative of each species\n",
    "    dpdt = np.zeros(n)\n",
    "    \n",
    "    # Pull off all positive interactions and negative interactions\n",
    "    Gamma_pos = Gamma*(Gamma > 0)\n",
    "    Gamma_neg = Gamma*(Gamma < 0)\n",
    "    \n",
    "    # Compute the current value of the net positive and negative interaction terms\n",
    "    gamma_pos = Gamma_pos @ p\n",
    "    gamma_neg = Gamma_neg @ p\n",
    "    \n",
    "    # Compute the derivative term in vectorized form\n",
    "    dpdt = mu * p * ( np.ones(n) - p - sigma/(np.ones(n)+gamma_pos)  + gamma_neg )\n",
    "    \n",
    "    return dpdt"
   ]
  },
  {
   "cell_type": "code",
   "execution_count": null,
   "metadata": {},
   "outputs": [],
   "source": [
    "def random_parameters(n, int_mean, int_width, growth_mean, growth_var):\n",
    "    # Generate simulation parameters\n",
    "    time_range = np.linspace(0,2000,134)\n",
    "    Gamma = int_width*np.random.randn(n,n) + int_mean*np.ones((n,n))\n",
    "    sigma = 0.05*np.ones(n)\n",
    "    mu = growth_mean*np.ones(n) + growth_var*np.random.randn(n)\n",
    "    p_0 = 0.05*np.ones(n)\n",
    "    \n",
    "    return time_range, Gamma, sigma, mu, p_0"
   ]
  },
  {
   "cell_type": "code",
   "execution_count": null,
   "metadata": {},
   "outputs": [],
   "source": [
    "n = 7 # Small community size\n",
    "int_mean = 1 # Mean interaction term \\gamma_ij\n",
    "int_width = 0.2 # Std of \\gamma_ij\n",
    "growth_var = 0.02 # variance of basal growth rate \\mu_i\n",
    "growth_mean = 1.0 / 250.0 # mean of basal growth rate \\mu_j"
   ]
  },
  {
   "cell_type": "code",
   "execution_count": null,
   "metadata": {},
   "outputs": [],
   "source": [
    "# Generate simulation paramters\n",
    "params = random_parameters(n, mean, int_width, growth_mean, growth_var)\n",
    "time_range, Gamma, sigma, mu, p_0  = params\n",
    "\n",
    "# Integrate\n",
    "sol = odeint(multi_species_model, p_0, time_range, args = (n,Gamma, sigma, mu, ))\n",
    "print(sol.shape)\n",
    "# Plote solution\n",
    "plt.figure(figsize = (5,5))\n",
    "plt.title(\"Example Community\")\n",
    "plt.plot(sol)\n",
    "plt.show()"
   ]
  },
  {
   "cell_type": "code",
   "execution_count": null,
   "metadata": {},
   "outputs": [],
   "source": [
    "n = 7\n",
    "\n",
    "np.random.seed(73)\n",
    "\n",
    "sim_lists = []\n",
    "for i in trange(5000):\n",
    "    \n",
    "    # Roll new parameters\n",
    "    params = random_parameters(n, mean, int_width, growth_mean, growth_var)\n",
    "    time_range, Gamma, sigma, mu, p_0, = params\n",
    "\n",
    "    # Integrate\n",
    "    sol = odeint(multi_species_model, p_0, time_range, args = (n,Gamma, sigma, mu,))\n",
    "    # Add valid growth curves to the growing list. \n",
    "\n",
    "    if np.isnan(sol).any():\n",
    "        pass\n",
    "    elif sol[sol > 1.0].any():\n",
    "        pass\n",
    "    else:\n",
    "        sim_lists.append(sol)\n",
    "    #sim_lists.append(sol)\n",
    "    '''for i in range(sol.shape[1]):\n",
    "        # Make sure we drop any integrals resulting from outside the [0,1.0] domain\n",
    "        if np.isnan(sol[:,i]).any():\n",
    "            pass\n",
    "        elif sol[sol > 1.0].any():\n",
    "            pass\n",
    "        else:\n",
    "            # Take the finite difference to estimate the derivative. \n",
    "            #sim_lists.append(np.diff(sol[:,i]))\n",
    "            # sim_lists.append(sol[:,i])\n",
    "            sim_lists.append(sol)'''\n",
    "\n",
    "sols = np.array(sim_lists)\n",
    "\n",
    "random_indices = np.random.choice(10, 2, replace=False)\n",
    "\n",
    "# Create a figure and axis\n",
    "fig, ax = plt.subplots(figsize=(12, 8))\n",
    "\n",
    "# Plot each selected line\n",
    "for idx in random_indices:\n",
    "    line = sols[idx]\n",
    "    ax.plot(line, alpha=0.1)\n",
    "\n",
    "# Customize the plot\n",
    "ax.set_xlabel('Point Index')\n",
    "ax.set_ylabel('Value')\n",
    "ax.set_title('500 Random Lines from Tensor')\n",
    "\n",
    "\n",
    "# Show the plot\n",
    "plt.tight_layout()\n",
    "plt.show()"
   ]
  },
  {
   "cell_type": "code",
   "execution_count": null,
   "metadata": {},
   "outputs": [],
   "source": [
    "fig, axs = plt.subplots(10,10, figsize = (10,10), sharex = True, sharey = True)\n",
    "axs = axs.flatten()\n",
    "\n",
    "# Choose 100 curves at random and plot them\n",
    "A = sols[np.random.randint(sols.shape[0],size = 100),:]\n",
    "for i in range(100):\n",
    "    axs[i].plot(A[i])\n",
    "    axs[i].axis(\"off\")\n",
    "plt.show()"
   ]
  },
  {
   "cell_type": "code",
   "execution_count": 20,
   "metadata": {},
   "outputs": [],
   "source": [
    "output = open('community_data.pkl', 'wb')\n",
    "pickle.dump(sols, output)\n",
    "output.close()"
   ]
  }
 ],
 "metadata": {
  "kernelspec": {
   "display_name": "IIT",
   "language": "python",
   "name": "python3"
  },
  "language_info": {
   "codemirror_mode": {
    "name": "ipython",
    "version": 3
   },
   "file_extension": ".py",
   "mimetype": "text/x-python",
   "name": "python",
   "nbconvert_exporter": "python",
   "pygments_lexer": "ipython3",
   "version": "3.12.1"
  }
 },
 "nbformat": 4,
 "nbformat_minor": 2
}
