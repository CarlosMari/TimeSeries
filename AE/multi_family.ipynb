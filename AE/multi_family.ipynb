{
 "cells": [
  {
   "cell_type": "code",
   "execution_count": 4,
   "metadata": {},
   "outputs": [],
   "source": [
    "%load_ext autoreload\n",
    "%autoreload 2\n",
    "import numpy as np\n",
    "import matplotlib.pyplot as plt\n",
    "from tqdm.notebook import trange\n",
    "\n",
    "import torch\n",
    "from torch.utils.data import DataLoader\n",
    "\n",
    "\n",
    "device = 'cpu'"
   ]
  },
  {
   "cell_type": "code",
   "execution_count": 5,
   "metadata": {},
   "outputs": [],
   "source": [
    "def train(model, hp, data_loader, debug = False):\n",
    "    \"\"\"Train a given model for a specific type of hyperparamters and data_loader, train\n",
    "    the model and then return the trained model as well as the running losses throughout \n",
    "    training.\n",
    "    \n",
    "    Parameters\n",
    "    ----------\n",
    "    model: torch.nn.Module\n",
    "        An untrained model to be optimized.\n",
    "    \n",
    "    hp: dict\n",
    "        A dictionary containing all of the hyperparameters for the system.\n",
    "    \n",
    "    data_loader: torch.utils.DataLoader\n",
    "        A presetup dataloader containing the training data set for the set. \n",
    "    \n",
    "    Returns\n",
    "    -------\n",
    "    model: torch.nn.Module\n",
    "        The trained model after optimization.\n",
    "        \n",
    "    running_losses: list\n",
    "        The loss for each epoch of training. \n",
    "    \"\"\"\n",
    "    \n",
    "    # Store the losses per epoch\n",
    "    running_losses = []\n",
    "    \n",
    "    # Configure optimizer. \n",
    "    optimizer = torch.optim.Adam(model.parameters(), lr=hp[\"lr\"], weight_decay= hp[\"weight_decay\"])\n",
    "\n",
    "    criterion = torch.nn.MSELoss()\n",
    "    \n",
    "    # Outerloop will iterate through epochs. tqdm function trange provides progressbar\n",
    "    for i in trange(hp[\"epochs\"]):\n",
    "        \n",
    "        \n",
    "        epoch_loss = 0 \n",
    "        # Inner loop iterates through batches\n",
    "        for batch in data_loader:\n",
    "\n",
    "            # Transfer the batch to the GPU\n",
    "            batch = batch.to(device)\n",
    "\n",
    "            if debug:\n",
    "                print(\"BATCH SHAPE: \")\n",
    "                print(batch)\n",
    "\n",
    "            # Zero gradient\n",
    "            optimizer.zero_grad()\n",
    "\n",
    "            # Perform forward pass\n",
    "            pred, code = model(batch)\n",
    "\n",
    "            # Uncomment to verify model prediction shape\n",
    "            if debug:\n",
    "                print(\"PREDI SHAPE: \")\n",
    "                print(batch)\n",
    "\n",
    "            # Compute reconstruction loss\n",
    "            batch_loss = criterion(pred,batch)\n",
    "            \n",
    "            if debug:\n",
    "                print(batch_loss)\n",
    "\n",
    "            # Compute gradient\n",
    "            batch_loss.backward()\n",
    "            \n",
    "\n",
    "            # Take step\n",
    "            optimizer.step()\n",
    "\n",
    "            # Append to running epoch loss\n",
    "            epoch_loss += batch_loss.item()\n",
    "\n",
    "        # Keep running track of losses\n",
    "        if i % 250 == 0:\n",
    "            print(f\"Epoch [{i}]: \" + str(epoch_loss))\n",
    "    \n",
    "        running_losses.append(epoch_loss)\n",
    "\n",
    "    return model, running_losses"
   ]
  },
  {
   "cell_type": "code",
   "execution_count": 8,
   "metadata": {},
   "outputs": [
    {
     "name": "stdout",
     "output_type": "stream",
     "text": [
      "(3000, 1, 133)\n"
     ]
    }
   ],
   "source": [
    "X = np.loadtxt(\"./figure_simulations.csv\", delimiter = \",\")\n",
    "\n",
    "X = X.reshape(( X.shape[0], 1, X.shape[1]))\n",
    "print(X.shape)"
   ]
  },
  {
   "cell_type": "code",
   "execution_count": 9,
   "metadata": {},
   "outputs": [],
   "source": [
    "hp = {\n",
    "    \"in_channels\" : 1, \n",
    "    \"channels\": 10, \n",
    "    \"depth\": 10,\n",
    "    \"reduced_size\" : 2,\n",
    "    \"out_channels\" : 2, \n",
    "    \"kernel_size\": 3,\n",
    "    \"window_length\":133,\n",
    "    \"lr\": 1e-3, \n",
    "    \"epochs\": 1000,\n",
    "    \"batch_size\": 300, \n",
    "    \"weight_decay\":0.0\n",
    "}"
   ]
  }
 ],
 "metadata": {
  "kernelspec": {
   "display_name": "IIT",
   "language": "python",
   "name": "python3"
  },
  "language_info": {
   "codemirror_mode": {
    "name": "ipython",
    "version": 3
   },
   "file_extension": ".py",
   "mimetype": "text/x-python",
   "name": "python",
   "nbconvert_exporter": "python",
   "pygments_lexer": "ipython3",
   "version": "3.12.1"
  }
 },
 "nbformat": 4,
 "nbformat_minor": 2
}
