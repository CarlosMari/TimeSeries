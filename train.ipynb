{
 "cells": [
  {
   "cell_type": "code",
   "execution_count": 1,
   "metadata": {},
   "outputs": [],
   "source": [
    "%load_ext autoreload\n",
    "%autoreload 2\n",
    "import numpy as np\n",
    "import matplotlib.pyplot as plt\n",
    "from config import model_config, hp\n",
    "from AE.model.autoencoder import Autoencoder\n",
    "from train import train"
   ]
  },
  {
   "cell_type": "code",
   "execution_count": 2,
   "metadata": {},
   "outputs": [
    {
     "name": "stderr",
     "output_type": "stream",
     "text": [
      "\u001b[34m\u001b[1mwandb\u001b[0m: Using wandb-core as the SDK backend. Please refer to https://wandb.me/wandb-core for more information.\n",
      "\u001b[34m\u001b[1mwandb\u001b[0m: Currently logged in as: \u001b[33mcarlosmari\u001b[0m (\u001b[33mnetworkrl\u001b[0m). Use \u001b[1m`wandb login --relogin`\u001b[0m to force relogin\n"
     ]
    },
    {
     "data": {
      "text/html": [
       "Tracking run with wandb version 0.18.1"
      ],
      "text/plain": [
       "<IPython.core.display.HTML object>"
      ]
     },
     "metadata": {},
     "output_type": "display_data"
    },
    {
     "data": {
      "text/html": [
       "Run data is saved locally in <code>/Users/carlosmarinoguera/Documents/IIT/OriginalPaper/wandb/run-20240926_203745-5rfqywgu</code>"
      ],
      "text/plain": [
       "<IPython.core.display.HTML object>"
      ]
     },
     "metadata": {},
     "output_type": "display_data"
    },
    {
     "data": {
      "text/html": [
       "Syncing run <strong><a href='https://wandb.ai/networkrl/Autoencoder%20VAEs/runs/5rfqywgu' target=\"_blank\">cerulean-wind-29</a></strong> to <a href='https://wandb.ai/networkrl/Autoencoder%20VAEs' target=\"_blank\">Weights & Biases</a> (<a href='https://wandb.me/run' target=\"_blank\">docs</a>)<br/>"
      ],
      "text/plain": [
       "<IPython.core.display.HTML object>"
      ]
     },
     "metadata": {},
     "output_type": "display_data"
    },
    {
     "data": {
      "text/html": [
       " View project at <a href='https://wandb.ai/networkrl/Autoencoder%20VAEs' target=\"_blank\">https://wandb.ai/networkrl/Autoencoder%20VAEs</a>"
      ],
      "text/plain": [
       "<IPython.core.display.HTML object>"
      ]
     },
     "metadata": {},
     "output_type": "display_data"
    },
    {
     "data": {
      "text/html": [
       " View run at <a href='https://wandb.ai/networkrl/Autoencoder%20VAEs/runs/5rfqywgu' target=\"_blank\">https://wandb.ai/networkrl/Autoencoder%20VAEs/runs/5rfqywgu</a>"
      ],
      "text/plain": [
       "<IPython.core.display.HTML object>"
      ]
     },
     "metadata": {},
     "output_type": "display_data"
    },
    {
     "name": "stderr",
     "output_type": "stream",
     "text": [
      " 37%|███▋      | 183/500 [11:38<20:20,  3.85s/it]"
     ]
    }
   ],
   "source": [
    "model = Autoencoder(model_config)\n",
    "trained_model, loss = train(model, 'data/noisy_data.pkl')"
   ]
  },
  {
   "cell_type": "code",
   "execution_count": 5,
   "metadata": {},
   "outputs": [
    {
     "ename": "NameError",
     "evalue": "name 'X' is not defined",
     "output_type": "error",
     "traceback": [
      "\u001b[0;31m---------------------------------------------------------------------------\u001b[0m",
      "\u001b[0;31mNameError\u001b[0m                                 Traceback (most recent call last)",
      "Cell \u001b[0;32mIn[5], line 3\u001b[0m\n\u001b[1;32m      1\u001b[0m \u001b[38;5;28;01mfrom\u001b[39;00m \u001b[38;5;21;01mmatplotlib\u001b[39;00m\u001b[38;5;21;01m.\u001b[39;00m\u001b[38;5;21;01mcm\u001b[39;00m \u001b[38;5;28;01mimport\u001b[39;00m get_cmap\n\u001b[0;32m----> 3\u001b[0m subset \u001b[38;5;241m=\u001b[39m \u001b[43mX\u001b[49m[np\u001b[38;5;241m.\u001b[39mrandom\u001b[38;5;241m.\u001b[39mrandint(\u001b[38;5;241m0\u001b[39m,X\u001b[38;5;241m.\u001b[39mshape[\u001b[38;5;241m0\u001b[39m], size \u001b[38;5;241m=\u001b[39m \u001b[38;5;241m5\u001b[39m), :,:]\u001b[38;5;241m.\u001b[39mto(device)\n\u001b[1;32m      5\u001b[0m \u001b[38;5;66;03m# Generate embeddings and reconstructions\u001b[39;00m\n\u001b[1;32m      6\u001b[0m embeddings_sub \u001b[38;5;241m=\u001b[39m model\u001b[38;5;241m.\u001b[39mencoder(subset)\n",
      "\u001b[0;31mNameError\u001b[0m: name 'X' is not defined"
     ]
    }
   ],
   "source": [
    "from matplotlib.cm import get_cmap\n",
    "\n",
    "subset = X[np.random.randint(0,X.shape[0], size = 7), :,:].to(device)\n",
    "\n",
    "# Generate embeddings and reconstructions\n",
    "embeddings_sub = model.encoder(subset)\n",
    "recons = model.decoder(embeddings_sub).cpu().detach()\n",
    "\n",
    "# Transfer to cpu and drop gradients to enable plotting\n",
    "embeddings_sub = embeddings_sub.cpu().detach()\n",
    "subset = subset.cpu().detach()\n",
    "\n",
    "fig, axs = plt.subplots(1,2, figsize = (18,6))\n",
    "axs = axs.flatten()\n",
    "\n",
    "\n",
    "cmap = get_cmap('tab10')  # You can change 'tab10' to any other colormap\n",
    "\n",
    "# Plot originals\n",
    "for i in range(subset.shape[0]):\n",
    "    axs[0].plot(subset[i].squeeze(), color=cmap(i))\n",
    "axs[0].set_title(\"Originals\")\n",
    "#axs[0].set_xlim([0, 50])\n",
    "\n",
    "# Plot reconstructions\n",
    "for i in range(recons.shape[0]):\n",
    "    axs[1].plot(recons[i].squeeze(), color=cmap(i))\n",
    "axs[1].set_title(\"Reconstructions\")\n",
    "#axs[1].set_xlim([0, 50])\n",
    "\n",
    "plt.tight_layout()\n",
    "plt.show()\n",
    "\n",
    "wandb.log({\"plot\": wandb.Image(fig)})\n"
   ]
  },
  {
   "cell_type": "code",
   "execution_count": 50,
   "metadata": {},
   "outputs": [],
   "source": [
    "from sklearn.decomposition import PCA\n",
    "\n",
    "# Compute a PCA decomposition of the dataset\n",
    "embeddings = encoder(X.to(device)).cpu()\n",
    "pca = PCA()\n",
    "X_pca = pca.fit_transform(embeddings.detach().numpy())"
   ]
  },
  {
   "cell_type": "code",
   "execution_count": 51,
   "metadata": {},
   "outputs": [
    {
     "data": {
      "image/png": "[encoded data removed]",
      "text/plain": [
       "<Figure size 400x400 with 1 Axes>"
      ]
     },
     "metadata": {},
     "output_type": "display_data"
    }
   ],
   "source": [
    "variances = pca.explained_variance_ratio_\n",
    "\n",
    "# Plot formatting\n",
    "plt.figure(figsize = (4,4))\n",
    "plt.bar([f\"{x+1}\" for x in range(variances.shape[0])],height = variances)\n",
    "plt.ylim(0,1.0)\n",
    "plt.locator_params(axis='y', nbins=3)\n",
    "plt.title(\"Variance Explained by Principal Component\")\n",
    "plt.show()"
   ]
  },
  {
   "cell_type": "code",
   "execution_count": 25,
   "metadata": {},
   "outputs": [],
   "source": [
    "torch.save(model.state_dict(), './weights/fig2.pth')"
   ]
  }
 ],
 "metadata": {
  "kernelspec": {
   "display_name": "venv",
   "language": "python",
   "name": "python3"
  },
  "language_info": {
   "codemirror_mode": {
    "name": "ipython",
    "version": 3
   },
   "file_extension": ".py",
   "mimetype": "text/x-python",
   "name": "python",
   "nbconvert_exporter": "python",
   "pygments_lexer": "ipython3",
   "version": "3.12.1"
  }
 },
 "nbformat": 4,
 "nbformat_minor": 2
}
